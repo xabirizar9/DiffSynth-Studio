{
 "cells": [
  {
   "cell_type": "code",
   "execution_count": 2,
   "metadata": {},
   "outputs": [],
   "source": [
    "%load_ext autoreload\n",
    "%autoreload 2"
   ]
  },
  {
   "cell_type": "code",
   "execution_count": 1,
   "metadata": {},
   "outputs": [
    {
     "name": "stderr",
     "output_type": "stream",
     "text": [
      "/home/xabieririzar/DiffSynth-Studio/.venv/lib/python3.10/site-packages/tqdm/auto.py:21: TqdmWarning: IProgress not found. Please update jupyter and ipywidgets. See https://ipywidgets.readthedocs.io/en/stable/user_install.html\n",
      "  from .autonotebook import tqdm as notebook_tqdm\n"
     ]
    }
   ],
   "source": [
    "import torch\n",
    "import numpy as np\n",
    "import pandas as pd\n",
    "import os\n",
    "import librosa\n",
    "import cv2\n",
    "\n",
    "from pathlib import Path\n",
    "from random import shuffle\n",
    "from diffsynth import ModelManager, WanVideoPipeline, save_video, VideoData"
   ]
  },
  {
   "cell_type": "code",
   "execution_count": null,
   "metadata": {},
   "outputs": [],
   "source": [
    "os.path.exists(\"/home/xabieririzar/DiffSynth-Studio/dataset/train/gCE5175IkoY_0.mp4\")"
   ]
  },
  {
   "cell_type": "code",
   "execution_count": 3,
   "metadata": {},
   "outputs": [],
   "source": [
    "vid_path = Path(\"dataset/train\")\n",
    "metadata = pd.read_csv(\"dataset/metadata.csv\")\n",
    "masks = Path(\"dataset/lip_masks\")"
   ]
  },
  {
   "cell_type": "code",
   "execution_count": 4,
   "metadata": {},
   "outputs": [],
   "source": [
    "# Load latents\n",
    "latents_paths = [video_path for video_path in vid_path.iterdir() if video_path.suffix == \".pth\"]\n",
    "# shuffle(latents_paths)"
   ]
  },
  {
   "cell_type": "code",
   "execution_count": 10,
   "metadata": {},
   "outputs": [],
   "source": [
    "# C, F, H, W\n",
    "latent = torch.load(latents_paths[0], map_location='cpu')['latents'].unsqueeze(0)"
   ]
  },
  {
   "cell_type": "code",
   "execution_count": 13,
   "metadata": {},
   "outputs": [
    {
     "data": {
      "text/plain": [
       "torch.Size([1, 16, 15, 60, 104])"
      ]
     },
     "execution_count": 13,
     "metadata": {},
     "output_type": "execute_result"
    }
   ],
   "source": [
    "latent.shape"
   ]
  },
  {
   "cell_type": "code",
   "execution_count": null,
   "metadata": {},
   "outputs": [],
   "source": [
    "model_manager = ModelManager(device=\"cpu\")\n",
    "model_manager.load_models(\n",
    "    [\n",
    "        \"models/Wan-AI/Wan2.1-T2V-1.3B/diffusion_pytorch_model.safetensors\",\n",
    "        \"models/Wan-AI/Wan2.1-T2V-1.3B/models_t5_umt5-xxl-enc-bf16.pth\",\n",
    "        \"models/Wan-AI/Wan2.1-T2V-1.3B/Wan2.1_VAE.pth\",\n",
    "    ],\n",
    "    torch_dtype=torch.bfloat16, # You can set `torch_dtype=torch.float8_e4m3fn` to enable FP8 quantization.\n",
    ")\n",
    "pipe = WanVideoPipeline.from_model_manager(model_manager, torch_dtype=torch.bfloat16, device=\"cuda\")\n",
    "pipe.enable_vram_management(num_persistent_param_in_dit=None)"
   ]
  },
  {
   "cell_type": "code",
   "execution_count": null,
   "metadata": {},
   "outputs": [],
   "source": [
    "# Load 5 latents\n",
    "latents = []\n",
    "audio_list = []\n",
    "\n",
    "for latent_path in latents_paths[12:14]:\n",
    "    latents.append(torch.load(latent_path)[\"latents\"])\n",
    "    name = latent_path.name.replace(\".tensors.pth\", \"\")\n",
    "\n",
    "    caption = metadata[metadata[\"file_name\"] == name][\"text\"].values[0]\n",
    "    # Load audio\n",
    "    audio_path = f\"dataset/audio/{name.replace('.mp4', '.wav')}\"\n",
    "\n",
    "    print(os.path.exists(audio_path))\n",
    "\n",
    "    audio_data, sr = librosa.load(audio_path, sr=None)\n",
    "    \n",
    "    # Add audio to list\n",
    "    \n",
    "    audio_list.append({\n",
    "        'name': name,\n",
    "        'audio': audio_data,\n",
    "        'caption': caption\n",
    "    })\n",
    "    \n",
    "latents = torch.stack(latents).to(pipe.device)"
   ]
  },
  {
   "cell_type": "code",
   "execution_count": null,
   "metadata": {},
   "outputs": [],
   "source": [
    "# play audio\n",
    "print(audio_list[0]['caption'])"
   ]
  },
  {
   "cell_type": "code",
   "execution_count": null,
   "metadata": {},
   "outputs": [],
   "source": [
    "# Play the audio\n",
    "from IPython.display import Audio\n",
    "display(Audio(audio_list[1]['audio'], rate=41000))"
   ]
  },
  {
   "cell_type": "code",
   "execution_count": null,
   "metadata": {},
   "outputs": [],
   "source": [
    "pipe.vae.to(pipe.device)"
   ]
  },
  {
   "cell_type": "code",
   "execution_count": 30,
   "metadata": {},
   "outputs": [],
   "source": [
    "out = pipe.vae.decode(latents, device='cuda')"
   ]
  },
  {
   "cell_type": "code",
   "execution_count": null,
   "metadata": {},
   "outputs": [],
   "source": [
    "for i in range(out.shape[0]):\n",
    "    video = out[i].permute(1, 2, 3, 0).cpu().float()\n",
    "    save_video(video, f\"video_{i}.mp4\", fps=30)"
   ]
  }
 ],
 "metadata": {
  "kernelspec": {
   "display_name": ".venv",
   "language": "python",
   "name": "python3"
  },
  "language_info": {
   "codemirror_mode": {
    "name": "ipython",
    "version": 3
   },
   "file_extension": ".py",
   "mimetype": "text/x-python",
   "name": "python",
   "nbconvert_exporter": "python",
   "pygments_lexer": "ipython3",
   "version": "3.10.17"
  }
 },
 "nbformat": 4,
 "nbformat_minor": 2
}
