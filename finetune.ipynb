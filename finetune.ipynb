{
 "cells": [
  {
   "cell_type": "code",
   "execution_count": null,
   "metadata": {},
   "outputs": [],
   "source": [
    "import os\n",
    "os.environ[\"HF_HOME\"] = \"/workspace/.cache/huggingface\"\n",
    "from pathlib import Path\n",
    "from datasets import load_dataset\n",
    "import pandas as pd"
   ]
  },
  {
   "cell_type": "code",
   "execution_count": 6,
   "metadata": {},
   "outputs": [],
   "source": [
    "data_dir = Path(\"data/vox2/\")\n",
    "audio = data_dir / \"aac\" / \"dev\" / \"aac\"\n",
    "video = data_dir / \"mp4\" / \"dev\" / \"mp4\"\n",
    "txt = data_dir / \"txt\"\n",
    "\n",
    "speaker_ids = sorted([d.name for d in audio.iterdir() if d.is_dir()])"
   ]
  },
  {
   "cell_type": "code",
   "execution_count": null,
   "metadata": {},
   "outputs": [],
   "source": [
    "# Create a list to store all audio-video pairs\n",
    "audio_video_pairs = []\n",
    "\n",
    "# Iterate through each ID\n",
    "for id_name in speaker_ids:\n",
    "    # Get all scene directories for this ID\n",
    "    audio_id_dir = audio / id_name\n",
    "    video_id_dir = video / id_name\n",
    "    txt_id_dir = txt / id_name\n",
    "    \n",
    "    # Ensure both directories exist\n",
    "    if not audio_id_dir.exists() or not video_id_dir.exists():\n",
    "        continue\n",
    "    \n",
    "    # Get all scene directories\n",
    "    audio_scenes = [d for d in audio_id_dir.iterdir() if d.is_dir()]\n",
    "    \n",
    "    # Iterate through each scene\n",
    "    for audio_scene in audio_scenes:\n",
    "        scene_name = audio_scene.name\n",
    "        video_scene = video_id_dir / scene_name\n",
    "        \n",
    "        # Ensure the corresponding video scene directory exists\n",
    "        if not video_scene.exists():\n",
    "            continue\n",
    "        \n",
    "        # Get all audio files in this scene\n",
    "        audio_files = list(audio_scene.glob(\"*.m4a\"))\n",
    "        \n",
    "        # For each audio file, find the corresponding video file\n",
    "        for audio_file in audio_files:\n",
    "            # Get the base name without extension\n",
    "            base_name = audio_file.stem\n",
    "            # Look for the corresponding video file\n",
    "            video_file = video_scene / f\"{base_name}.mp4\"\n",
    "            \n",
    "            # If the video file exists, add the pair to our list\n",
    "            if video_file.exists():\n",
    "                audio_video_pairs.append((audio_file, video_file))\n",
    "\n",
    "print(f\"Found {len(audio_video_pairs)} audio-video pairs\")"
   ]
  },
  {
   "cell_type": "code",
   "execution_count": null,
   "metadata": {},
   "outputs": [],
   "source": [
    "audio_video_pairs[0]"
   ]
  },
  {
   "cell_type": "code",
   "execution_count": null,
   "metadata": {},
   "outputs": [],
   "source": [
    "# Create a directory to store all audio and video files\n",
    "import shutil\n",
    "\n",
    "output_dir = Path(\"data/combined_files\")\n",
    "os.makedirs(output_dir, exist_ok=True)\n",
    "\n",
    "# Copy all files to the output directory\n",
    "for audio_file, video_file in audio_video_pairs:\n",
    "    # Extract filenames\n",
    "    scene = audio_file.parent.name\n",
    "    speaker_id = audio_file.parent.parent.name\n",
    "    audio_filename = f\"{speaker_id}_{scene}_{audio_file.name}\"\n",
    "    video_filename = f\"{speaker_id}_{scene}_{video_file.name}\"\n",
    "    \n",
    "    # Copy files to the output directory\n",
    "    shutil.copy2(audio_file, output_dir / audio_filename)\n",
    "    shutil.copy2(video_file, output_dir / video_filename)\n",
    "\n",
    "print(f\"Copied {len(audio_video_pairs)} audio files and {len(audio_video_pairs)} video files to {output_dir}\")\n",
    "\n",
    "# Display the ori"
   ]
  },
  {
   "cell_type": "code",
   "execution_count": 2,
   "metadata": {},
   "outputs": [],
   "source": [
    "# Load the dataset and store it in the workspace directory\n",
    "ds = load_dataset(\"acul3/voxceleb2\", cache_dir=\"/workspace/.cache/huggingface\")"
   ]
  },
  {
   "cell_type": "code",
   "execution_count": null,
   "metadata": {},
   "outputs": [],
   "source": [
    "ds['train'][0]"
   ]
  },
  {
   "cell_type": "code",
   "execution_count": null,
   "metadata": {},
   "outputs": [],
   "source": [
    "from concurrent.futures import ProcessPoolExecutor\n",
    "import numpy as np\n",
    "from tqdm.auto import tqdm\n",
    "\n",
    "def process_range(range_tuple):\n",
    "    start_idx, end_idx = range_tuple\n",
    "    results = []\n",
    "    for i in range(start_idx, end_idx):\n",
    "        entry = ds['train'][i]\n",
    "        speaker_id = entry['speaker_id']\n",
    "        if i % 1000 == 0:\n",
    "            print(f\"Processing entry {i} of {len(ds['train'])}\")\n",
    "        if speaker_id in speaker_ids:\n",
    "            results.append({\"speaker_id\": speaker_id, \"audio_path\": entry['audio_path']['path'], \"transcription\": entry['transcription'], \"gender\": entry['gender']})\n",
    "    return results\n",
    "\n",
    "# Define the ranges directly without creating batches first\n",
    "total_items = len(ds['train'])\n",
    "num_workers = 4\n",
    "chunk_size = total_items // num_workers\n",
    "ranges = [(i, min(i + chunk_size, total_items)) for i in range(0, total_items, chunk_size)]\n",
    "\n",
    "print(f\"Processing {total_items} items in {len(ranges)} chunks\")\n",
    "\n",
    "speaker_videos = []\n",
    "# Process ranges in parallel\n",
    "with ProcessPoolExecutor(max_workers=num_workers) as executor:\n",
    "    results = list(tqdm(\n",
    "        executor.map(process_range, ranges),\n",
    "        total=len(ranges),\n",
    "        desc=\"Processing data chunks\"\n",
    "    ))\n",
    "    \n",
    "    # Flatten results\n",
    "    for chunk_result in results:\n",
    "        speaker_videos.extend(chunk_result)\n",
    "\n",
    "print(f\"Found {len(speaker_videos)} matching speaker videos\")\n"
   ]
  },
  {
   "cell_type": "code",
   "execution_count": 15,
   "metadata": {},
   "outputs": [],
   "source": [
    "speaker_videos = sorted(speaker_videos, key=lambda x: x['speaker_id'])"
   ]
  },
  {
   "cell_type": "code",
   "execution_count": null,
   "metadata": {},
   "outputs": [],
   "source": [
    "speaker_videos[1]"
   ]
  },
  {
   "cell_type": "code",
   "execution_count": 17,
   "metadata": {},
   "outputs": [],
   "source": [
    "all_video_paths = sorted([file for file in os.listdir('data/combined_files') if file.endswith('.mp4')])"
   ]
  },
  {
   "cell_type": "code",
   "execution_count": 18,
   "metadata": {},
   "outputs": [],
   "source": [
    "video_path_and_transcripts = []\n",
    "\n",
    "for video in speaker_videos:\n",
    "    speaker_id = video['speaker_id']\n",
    "    audio_path = video['audio_path']\n",
    "    transcription = video['transcription']\n",
    "    \n",
    "    video_path = audio_path.replace('.wav', '.mp4')\n",
    "    file_name = speaker_id + \"_\" + video_path\n",
    "    video_path_and_transcripts.append({\"file_name\": file_name, \"text\": transcription.strip()})"
   ]
  },
  {
   "cell_type": "code",
   "execution_count": 19,
   "metadata": {},
   "outputs": [],
   "source": [
    "video_paths = {vid_path['file_name']: vid_path['text'] for vid_path in video_path_and_transcripts}"
   ]
  },
  {
   "cell_type": "code",
   "execution_count": 21,
   "metadata": {},
   "outputs": [],
   "source": [
    "cleaned_paths = []\n",
    "for vid_path in all_video_paths:\n",
    "    speaker_id, scene, vid_id = vid_path.split('_')[:3]\n",
    "    target_id = f\"{speaker_id}_{vid_id}\"\n",
    "    \n",
    "    if target_id in video_paths:\n",
    "        cleaned_paths.append({\"file_name\": vid_path, \"text\": video_paths[target_id].strip()})"
   ]
  },
  {
   "cell_type": "code",
   "execution_count": 33,
   "metadata": {},
   "outputs": [],
   "source": [
    "cleaned_paths = sorted(cleaned_paths, key=lambda x: x['file_name'])"
   ]
  },
  {
   "cell_type": "code",
   "execution_count": 34,
   "metadata": {},
   "outputs": [],
   "source": [
    "videos_df = pd.DataFrame.from_dict(cleaned_paths)"
   ]
  },
  {
   "cell_type": "code",
   "execution_count": 35,
   "metadata": {},
   "outputs": [],
   "source": [
    "videos_df.to_csv(\"data/metadata.csv\", index=False)"
   ]
  },
  {
   "cell_type": "code",
   "execution_count": null,
   "metadata": {},
   "outputs": [],
   "source": [
    "import torch\n",
    "from diffsynth import ModelManager, WanVideoPipeline, save_video, VideoData\n",
    "\n",
    "\n",
    "model_manager = ModelManager(torch_dtype=torch.bfloat16, device=\"cpu\")\n",
    "model_manager.load_models([\n",
    "    \"models/Wan-AI/Wan2.1-T2V-1.3B/diffusion_pytorch_model.safetensors\",\n",
    "    \"models/Wan-AI/Wan2.1-T2V-1.3B/models_t5_umt5-xxl-enc-bf16.pth\",\n",
    "    \"models/Wan-AI/Wan2.1-T2V-1.3B/Wan2.1_VAE.pth\",\n",
    "])\n",
    "model_manager.load_lora(\"models/lightning_logs/version_2/checkpoints/epoch=4-step=625.ckpt\", lora_alpha=1.0)\n",
    "pipe = WanVideoPipeline.from_model_manager(model_manager, device=\"cuda\")\n",
    "pipe.enable_vram_management(num_persistent_param_in_dit=None)\n",
    "\n",
    "video = pipe(\n",
    "    prompt=\"i was telling my friend about how much i wanted to see him\",\n",
    "    negative_prompt=\"low quality, unclear facial expressions, blurry\",\n",
    "    num_inference_steps=50,\n",
    "    seed=0, tiled=True\n",
    ")\n",
    "save_video(video, \"video.mp4\", fps=30, quality=5)"
   ]
  },
  {
   "cell_type": "code",
   "execution_count": 1,
   "metadata": {},
   "outputs": [
    {
     "name": "stderr",
     "output_type": "stream",
     "text": [
      "/workspace/DiffSynth-Studio/.venv/lib/python3.10/site-packages/tqdm/auto.py:21: TqdmWarning: IProgress not found. Please update jupyter and ipywidgets. See https://ipywidgets.readthedocs.io/en/stable/user_install.html\n",
      "  from .autonotebook import tqdm as notebook_tqdm\n"
     ]
    }
   ],
   "source": [
    "from diffusers import AutoencoderKLWan\n",
    "import torch\n",
    "import os"
   ]
  },
  {
   "cell_type": "code",
   "execution_count": 2,
   "metadata": {},
   "outputs": [],
   "source": []
  },
  {
   "cell_type": "code",
   "execution_count": 3,
   "metadata": {},
   "outputs": [],
   "source": [
    "model_id = \"Wan-AI/Wan2.1-I2V-14B-720P-Diffusers\"\n",
    "vae = AutoencoderKLWan.from_pretrained(model_id, subfolder=\"vae\", torch_dtype=torch.float32)\n",
    "\n",
    "latents_list = []\n",
    "\n",
    "for latents in os.listdir(\"data/train\"):\n",
    "    if latents.endswith(\".pth\"):\n",
    "        latents_list.append(torch.load(os.path.join(\"data/train\", latents)))\n",
    "\n",
    "        if len(latents_list) > 5:\n",
    "            break"
   ]
  },
  {
   "cell_type": "code",
   "execution_count": 28,
   "metadata": {},
   "outputs": [],
   "source": [
    "vae.to('cuda')\n",
    "latents_tensor = torch.stack([latent[\"latents\"] for latent in latents_list])\n",
    "latents_tensor = latents_tensor.to(vae.device)\n",
    "latents_tensor = latents_tensor.to(vae.dtype)"
   ]
  },
  {
   "cell_type": "code",
   "execution_count": null,
   "metadata": {},
   "outputs": [],
   "source": [
    "with torch.no_grad():\n",
    "    decoded_images = vae.decode(latents_tensor).sample"
   ]
  },
  {
   "cell_type": "code",
   "execution_count": null,
   "metadata": {},
   "outputs": [],
   "source": [
    "print(decoded_images.shape)\n",
    "\n",
    "# Create videos from each decoded image sequence\n",
    "import os\n",
    "from diffsynth import save_video\n",
    "\n",
    "# Create output directory if it doesn't exist\n",
    "os.makedirs(\"output_videos\", exist_ok=True)\n",
    "\n",
    "# Iterate over each sequence in the batch (dim=0)\n",
    "for i, image_sequence in enumerate(decoded_images):\n",
    "    # image_sequence shape is [frames, channels, height, width]\n",
    "    # Convert to the format expected by save_video\n",
    "    video = image_sequence.permute(1, 2, 3, 0)  # [frames, height, width, channels]\n",
    "    \n",
    "    # Ensure values are in [0, 1] range\n",
    "    if video.min() < 0 or video.max() > 1:\n",
    "        video = (video + 1.0) / 2.0  # Convert from [-1, 1] to [0, 1] if needed\n",
    "    \n",
    "    # Clamp values to ensure they're in valid range\n",
    "    video = torch.clamp(video, 0, 1)\n",
    "    \n",
    "    # Save the video\n",
    "    output_path = os.path.join(\"output_videos\", f\"video_{i}.mp4\")\n",
    "    save_video(video.cpu(), output_path, fps=30, quality=5)\n",
    "    \n",
    "    print(f\"Saved video {i+1}/{len(decoded_images)} to {output_path}\")\n"
   ]
  }
 ],
 "metadata": {
  "kernelspec": {
   "display_name": ".venv",
   "language": "python",
   "name": "python3"
  },
  "language_info": {
   "codemirror_mode": {
    "name": "ipython",
    "version": 3
   },
   "file_extension": ".py",
   "mimetype": "text/x-python",
   "name": "python",
   "nbconvert_exporter": "python",
   "pygments_lexer": "ipython3",
   "version": "3.10.12"
  }
 },
 "nbformat": 4,
 "nbformat_minor": 4
}
