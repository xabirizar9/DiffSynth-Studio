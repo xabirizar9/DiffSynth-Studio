{
 "cells": [
  {
   "cell_type": "code",
   "execution_count": 1,
   "metadata": {},
   "outputs": [
    {
     "name": "stderr",
     "output_type": "stream",
     "text": [
      "/home/xabieririzar/DiffSynth-Studio/.venv/lib/python3.10/site-packages/tqdm/auto.py:21: TqdmWarning: IProgress not found. Please update jupyter and ipywidgets. See https://ipywidgets.readthedocs.io/en/stable/user_install.html\n",
      "  from .autonotebook import tqdm as notebook_tqdm\n"
     ]
    }
   ],
   "source": [
    "import torch\n",
    "from diffsynth import ModelManager, WanVideoPipeline, save_video, VideoData"
   ]
  },
  {
   "cell_type": "code",
   "execution_count": null,
   "metadata": {},
   "outputs": [],
   "source": [
    "trained_model_path = \"models/lightning_logs/version_2/checkpoints/epoch=4-step=625.ckpt\""
   ]
  },
  {
   "cell_type": "markdown",
   "metadata": {},
   "source": [
    "### Load LoRA"
   ]
  },
  {
   "cell_type": "code",
   "execution_count": null,
   "metadata": {},
   "outputs": [],
   "source": [
    "model_manager = ModelManager(torch_dtype=torch.bfloat16, device=\"cpu\")\n",
    "model_manager.load_models([\n",
    "    \"models/Wan-AI/Wan2.1-T2V-1.3B/diffusion_pytorch_model.safetensors\",\n",
    "    \"models/Wan-AI/Wan2.1-T2V-1.3B/models_t5_umt5-xxl-enc-bf16.pth\",\n",
    "    \"models/Wan-AI/Wan2.1-T2V-1.3B/Wan2.1_VAE.pth\",\n",
    "])\n",
    "model_manager.load_lora(trained_model_path, lora_alpha=1.0)\n",
    "pipe = WanVideoPipeline.from_model_manager(model_manager, device=\"cuda\")\n",
    "pipe.enable_vram_management(num_persistent_param_in_dit=None)\n",
    "\n",
    "video = pipe(\n",
    "    prompt=\"i was telling my friend about how much i wanted to see him\",\n",
    "    negative_prompt=\"low quality, unclear facial expressions, blurry\",\n",
    "    num_inference_steps=50,\n",
    "    seed=0, tiled=True\n",
    ")\n",
    "save_video(video, \"video.mp4\", fps=30, quality=5)"
   ]
  }
 ],
 "metadata": {
  "kernelspec": {
   "display_name": ".venv",
   "language": "python",
   "name": "python3"
  },
  "language_info": {
   "codemirror_mode": {
    "name": "ipython",
    "version": 3
   },
   "file_extension": ".py",
   "mimetype": "text/x-python",
   "name": "python",
   "nbconvert_exporter": "python",
   "pygments_lexer": "ipython3",
   "version": "3.10.17"
  }
 },
 "nbformat": 4,
 "nbformat_minor": 2
}
